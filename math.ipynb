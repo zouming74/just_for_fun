{
 "cells": [
  {
   "cell_type": "markdown",
   "metadata": {},
   "source": [
    "## 数学札记\n",
    "### 基础\n",
    "\n",
    "这里是2022年的7月17日，我打算利用这个暑假的时间看看walter rudin的数学分析原理，再刷刷大学生数学竞赛（非数学）相关的书。按照我的效率，刷书基本是不太可能，所以还是主要看看rudin的数学分析。找了很多相关的参考资料，发现读书的顺序很重要，mitopencourse的指导和书原有的顺序完全不一样，而且Dr.Su的课程和书也不太一样。好在tianyi的analysis写的非常详细，也有很多的补充，在一些关键的地方也能帮助到我。一些小问题，像有理数集$\\mathbb{Q}$的手写格式是什么样的，还有就是课后练习对于只学过高数的我来说显得有些困难，有没有比较好的讲解（以学习者的视角解决这些练习）。暂时就写到这里吧！"
   ]
  },
  {
   "cell_type": "markdown",
   "metadata": {},
   "source": []
  }
 ],
 "metadata": {
  "language_info": {
   "name": "python"
  },
  "orig_nbformat": 4
 },
 "nbformat": 4,
 "nbformat_minor": 2
}
